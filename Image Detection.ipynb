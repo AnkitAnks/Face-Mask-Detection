{
 "cells": [
  {
   "cell_type": "code",
   "execution_count": null,
   "metadata": {},
   "outputs": [],
   "source": [
    "from tensorflow.keras.applications.mobilenet_v2 import preprocess_input\n",
    "from tensorflow.keras.preprocessing.image import img_to_array\n",
    "from tensorflow.keras.models import load_model\n",
    "import numpy as np\n",
    "import cv2\n",
    "import os"
   ]
  },
  {
   "cell_type": "code",
   "execution_count": null,
   "metadata": {},
   "outputs": [],
   "source": [
    "prototxtPath=os.path.sep.join([r'C:\\Users\\AnkitAnks\\Desktop\\Mask_Detection','deploy.prototxt'])\n",
    "weightsPath=os.path.sep.join([r'C:\\Users\\AnkitAnks\\Desktop\\Mask_Detection','res10_300x300_ssd_iter_140000.caffemodel'])\n"
   ]
  },
  {
   "cell_type": "code",
   "execution_count": null,
   "metadata": {},
   "outputs": [],
   "source": [
    "prototxtPath"
   ]
  },
  {
   "cell_type": "code",
   "execution_count": null,
   "metadata": {},
   "outputs": [],
   "source": [
    "weightsPath"
   ]
  },
  {
   "cell_type": "code",
   "execution_count": null,
   "metadata": {},
   "outputs": [],
   "source": [
    "net=cv2.dnn.readNet(prototxtPath,weightsPath)\n"
   ]
  },
  {
   "cell_type": "code",
   "execution_count": null,
   "metadata": {},
   "outputs": [],
   "source": [
    "net"
   ]
  },
  {
   "cell_type": "code",
   "execution_count": 10,
   "metadata": {},
   "outputs": [],
   "source": [
    "model=load_model(r'C:\\Users\\AnkitAnks\\Desktop\\Mask_Detection\\maskdetector.h5')"
   ]
  },
  {
   "cell_type": "code",
   "execution_count": 11,
   "metadata": {},
   "outputs": [
    {
     "data": {
      "text/plain": [
       "<tensorflow.python.keras.engine.training.Model at 0x1f35a9239e8>"
      ]
     },
     "execution_count": 11,
     "metadata": {},
     "output_type": "execute_result"
    }
   ],
   "source": [
    "model"
   ]
  },
  {
   "cell_type": "code",
   "execution_count": 67,
   "metadata": {},
   "outputs": [],
   "source": [
    "image=cv2.imread(r'C:\\Users\\AnkitAnks\\Desktop\\Mask_Detection\\example\\06.jpg')\n",
    "image = cv2.resize(image, (720, 720))"
   ]
  },
  {
   "cell_type": "code",
   "execution_count": 68,
   "metadata": {},
   "outputs": [
    {
     "data": {
      "text/plain": [
       "array([[[102,  75,   0],\n",
       "        [105,  80,   0],\n",
       "        [ 94,  73,   0],\n",
       "        ...,\n",
       "        [ 31,  24,   0],\n",
       "        [ 31,  24,   0],\n",
       "        [ 31,  24,   0]],\n",
       "\n",
       "       [[100,  74,   0],\n",
       "        [ 98,  74,   0],\n",
       "        [100,  75,   0],\n",
       "        ...,\n",
       "        [ 28,  23,   0],\n",
       "        [ 30,  25,   0],\n",
       "        [ 29,  24,   0]],\n",
       "\n",
       "       [[102,  78,   0],\n",
       "        [104,  77,   0],\n",
       "        [106,  76,   0],\n",
       "        ...,\n",
       "        [ 27,  22,   0],\n",
       "        [ 29,  24,   0],\n",
       "        [ 30,  25,   0]],\n",
       "\n",
       "       ...,\n",
       "\n",
       "       [[ 36,  35,  21],\n",
       "        [ 34,  34,  20],\n",
       "        [ 32,  32,  20],\n",
       "        ...,\n",
       "        [ 38,  37,  17],\n",
       "        [ 38,  38,  17],\n",
       "        [ 35,  36,  15]],\n",
       "\n",
       "       [[ 33,  33,  20],\n",
       "        [ 32,  32,  19],\n",
       "        [ 33,  33,  21],\n",
       "        ...,\n",
       "        [ 41,  40,  20],\n",
       "        [ 41,  43,  20],\n",
       "        [ 36,  38,  11]],\n",
       "\n",
       "       [[ 31,  31,  19],\n",
       "        [ 31,  31,  19],\n",
       "        [ 29,  31,  19],\n",
       "        ...,\n",
       "        [ 40,  37,  18],\n",
       "        [ 36,  35,  12],\n",
       "        [ 38,  40,  10]]], dtype=uint8)"
      ]
     },
     "execution_count": 68,
     "metadata": {},
     "output_type": "execute_result"
    }
   ],
   "source": [
    "image"
   ]
  },
  {
   "cell_type": "code",
   "execution_count": 69,
   "metadata": {},
   "outputs": [],
   "source": [
    "(h,w)=image.shape[:2]"
   ]
  },
  {
   "cell_type": "code",
   "execution_count": 70,
   "metadata": {},
   "outputs": [
    {
     "data": {
      "text/plain": [
       "(720, 720)"
      ]
     },
     "execution_count": 70,
     "metadata": {},
     "output_type": "execute_result"
    }
   ],
   "source": [
    "(h,w)"
   ]
  },
  {
   "cell_type": "code",
   "execution_count": 71,
   "metadata": {},
   "outputs": [],
   "source": [
    "blob=cv2.dnn.blobFromImage(image,1.0,(300,300),(104.0,177.0,123.0))"
   ]
  },
  {
   "cell_type": "code",
   "execution_count": 72,
   "metadata": {},
   "outputs": [
    {
     "data": {
      "text/plain": [
       "array([[[[  -4.,    0.,   -1., ...,  -76.,  -77.,  -74.],\n",
       "         [  -1.,    4.,    8., ...,  -75.,  -76.,  -73.],\n",
       "         [   2.,    2.,    6., ...,  -71.,  -73.,  -74.],\n",
       "         ...,\n",
       "         [ -69.,  -70.,  -75., ...,  -68.,  -71.,  -73.],\n",
       "         [ -66.,  -71.,  -77., ...,  -62.,  -65.,  -69.],\n",
       "         [ -72.,  -74.,  -74., ...,  -61.,  -63.,  -66.]],\n",
       "\n",
       "        [[-102.,  -96.,  -95., ..., -156., -155., -153.],\n",
       "         [-103.,  -95.,  -92., ..., -155., -154., -151.],\n",
       "         [ -99.,  -97.,  -94., ..., -154., -153., -153.],\n",
       "         ...,\n",
       "         [-142., -142., -148., ..., -139., -142., -144.],\n",
       "         [-140., -144., -151., ..., -138., -139., -143.],\n",
       "         [-145., -145., -148., ..., -135., -137., -137.]],\n",
       "\n",
       "        [[-123., -123., -123., ..., -123., -123., -123.],\n",
       "         [-123., -123., -123., ..., -123., -123., -122.],\n",
       "         [-123., -123., -123., ..., -122., -123., -123.],\n",
       "         ...,\n",
       "         [-101., -102., -106., ..., -107., -110., -112.],\n",
       "         [-100., -104., -109., ..., -104., -106., -109.],\n",
       "         [-104., -103., -105., ..., -102., -104., -108.]]]], dtype=float32)"
      ]
     },
     "execution_count": 72,
     "metadata": {},
     "output_type": "execute_result"
    }
   ],
   "source": [
    "blob"
   ]
  },
  {
   "cell_type": "code",
   "execution_count": 73,
   "metadata": {},
   "outputs": [
    {
     "data": {
      "text/plain": [
       "(1, 3, 300, 300)"
      ]
     },
     "execution_count": 73,
     "metadata": {},
     "output_type": "execute_result"
    }
   ],
   "source": [
    "blob.shape"
   ]
  },
  {
   "cell_type": "code",
   "execution_count": 74,
   "metadata": {},
   "outputs": [],
   "source": [
    "net.setInput(blob)\n",
    "detections=net.forward()"
   ]
  },
  {
   "cell_type": "code",
   "execution_count": 75,
   "metadata": {},
   "outputs": [
    {
     "data": {
      "text/plain": [
       "array([[[[0.        , 1.        , 0.97755164, ..., 0.3034145 ,\n",
       "          0.62870795, 0.44047257],\n",
       "         [0.        , 1.        , 0.9742991 , ..., 0.23470259,\n",
       "          0.8092247 , 0.39194   ],\n",
       "         [0.        , 1.        , 0.96661747, ..., 0.31395584,\n",
       "          0.42492086, 0.43900007],\n",
       "         ...,\n",
       "         [0.        , 1.        , 0.09908321, ..., 0.54478985,\n",
       "          0.46108517, 0.5938768 ],\n",
       "         [0.        , 1.        , 0.09899408, ..., 0.7742464 ,\n",
       "          0.63064015, 0.8914625 ],\n",
       "         [0.        , 1.        , 0.09881545, ..., 0.50306433,\n",
       "          0.218674  , 0.55460745]]]], dtype=float32)"
      ]
     },
     "execution_count": 75,
     "metadata": {},
     "output_type": "execute_result"
    }
   ],
   "source": [
    "detections"
   ]
  },
  {
   "cell_type": "code",
   "execution_count": 76,
   "metadata": {},
   "outputs": [],
   "source": [
    "#loop over the detections\n",
    "for i in range(0,detections.shape[2]):\n",
    "    confidence=detections[0,0,i,2]\n",
    "    \n",
    "    \n",
    "    if confidence>0.5:\n",
    "        #we need the X,Y coordinates\n",
    "        box=detections[0,0,i,3:7]*np.array([w,h,w,h])\n",
    "        (startX,startY,endX,endY)=box.astype('int')\n",
    "        \n",
    "        #ensure the bounding boxes fall within the dimensions of the frame\n",
    "        (startX,startY)=(max(0,startX),max(0,startY))\n",
    "        (endX,endY)=(min(w-1,endX), min(h-1,endY))\n",
    "        \n",
    "        \n",
    "        #extract the face ROI, convert it from BGR to RGB channel, resize it to 224,224 and preprocess it\n",
    "        face=image[startY:endY, startX:endX]\n",
    "        face=cv2.cvtColor(face,cv2.COLOR_BGR2RGB)\n",
    "        face=cv2.resize(face,(224,224))\n",
    "        face=img_to_array(face)\n",
    "        face=preprocess_input(face)\n",
    "        face=np.expand_dims(face,axis=0)\n",
    "        \n",
    "        (mask,withoutMask)=model.predict(face)[0]\n",
    "        \n",
    "        #determine the class label and color we will use to draw the bounding box and text\n",
    "        label='Mask' if mask>withoutMask else 'No Mask'\n",
    "        color=(0,255,0) if label=='Mask' else (0,0,255)\n",
    "        \n",
    "        #include the probability in the label\n",
    "        label=\"{}: {:.2f}%\".format(label,max(mask,withoutMask)*100)\n",
    "        \n",
    "        #display the label and bounding boxes\n",
    "        cv2.putText(image,label,(startX,startY-10),cv2.FONT_HERSHEY_SIMPLEX,0.45,color,2)\n",
    "        cv2.rectangle(image,(startX,startY),(endX,endY),color,2)"
   ]
  },
  {
   "cell_type": "code",
   "execution_count": 77,
   "metadata": {},
   "outputs": [],
   "source": [
    "cv2.imshow(\"OutPut\",image)\n",
    "cv2.waitKey(0)\n",
    "cv2.destroyAllWindows()\n"
   ]
  },
  {
   "cell_type": "code",
   "execution_count": null,
   "metadata": {},
   "outputs": [],
   "source": []
  }
 ],
 "metadata": {
  "kernelspec": {
   "display_name": "Python 3",
   "language": "python",
   "name": "python3"
  },
  "language_info": {
   "codemirror_mode": {
    "name": "ipython",
    "version": 3
   },
   "file_extension": ".py",
   "mimetype": "text/x-python",
   "name": "python",
   "nbconvert_exporter": "python",
   "pygments_lexer": "ipython3",
   "version": "3.7.3"
  }
 },
 "nbformat": 4,
 "nbformat_minor": 2
}
